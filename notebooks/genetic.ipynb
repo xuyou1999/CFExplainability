{
 "cells": [
  {
   "cell_type": "markdown",
   "metadata": {},
   "source": [
    "# Initialization"
   ]
  },
  {
   "cell_type": "code",
   "execution_count": 1,
   "metadata": {},
   "outputs": [],
   "source": [
    "import os, sys\n",
    "import time\n",
    "import numpy as np\n",
    "import pandas as pd\n",
    "import random\n",
    "from scipy import stats as st\n",
    "import itertools\n",
    "import operator\n",
    "\n",
    "import torch\n",
    "\n",
    "from tqdm.notebook import trange\n",
    "from tqdm import tqdm\n",
    "\n",
    "random_state = np.random.RandomState(2020)"
   ]
  },
  {
   "cell_type": "code",
   "execution_count": 2,
   "metadata": {},
   "outputs": [],
   "source": [
    "# get currently working directory\n",
    "base_dir = os.getcwd()\n",
    "\n",
    "# load functions from other notebooks\n",
    "helpers_file = os.path.join(base_dir, 'helpers.ipynb')\n",
    "%run $helpers_file\n",
    "\n",
    "# Load spotlight module\n",
    "for p in ['../spotlight_ext']:\n",
    "    module_path = os.path.abspath(os.path.join(base_dir, p))\n",
    "    if module_path not in sys.path:\n",
    "        sys.path.append(module_path)"
   ]
  },
  {
   "cell_type": "markdown",
   "metadata": {},
   "source": [
    "# Load Dataset"
   ]
  },
  {
   "cell_type": "markdown",
   "metadata": {},
   "source": [
    "## Models"
   ]
  },
  {
   "cell_type": "code",
   "execution_count": 3,
   "metadata": {},
   "outputs": [],
   "source": [
    "lstm_model = load_model(model_type='entire')\n",
    "pooling_model = load_model('pooling')\n",
    "\n",
    "pretrained_models = {\n",
    "    'lstm': lstm_model,\n",
    "    'pooling': pooling_model,\n",
    "}"
   ]
  },
  {
   "cell_type": "markdown",
   "metadata": {},
   "source": [
    "## Dataset"
   ]
  },
  {
   "cell_type": "code",
   "execution_count": 4,
   "metadata": {},
   "outputs": [],
   "source": [
    "from spotlight.cross_validation import random_train_test_split\n",
    "from spotlight.datasets.movielens import get_movielens_dataset\n",
    "\n",
    "# get dataset\n",
    "dataset = get_movielens_dataset(variant='1M')\n",
    "train, test = random_train_test_split(dataset, random_state=random_state)\n",
    "\n",
    "max_sequence_length = 20\n",
    "train = train.to_sequence(max_sequence_length=max_sequence_length)\n",
    "test = test.to_sequence(max_sequence_length=max_sequence_length)"
   ]
  },
  {
   "cell_type": "markdown",
   "metadata": {},
   "source": [
    "# Genetic Search"
   ]
  },
  {
   "cell_type": "markdown",
   "metadata": {},
   "source": [
    "## Initialization"
   ]
  },
  {
   "cell_type": "markdown",
   "metadata": {},
   "source": [
    "target item is 149 in this test case, top k is 10"
   ]
  },
  {
   "cell_type": "code",
   "execution_count": 5,
   "metadata": {},
   "outputs": [
    {
     "data": {
      "text/plain": [
       "array([ 59, 114, 124, 125, 177, 186, 190, 191, 196, 197, 200], dtype=int32)"
      ]
     },
     "execution_count": 5,
     "metadata": {},
     "output_type": "execute_result"
    }
   ],
   "source": [
    "test_interaction = test.sequences[test.user_ids == 3][0].copy()\n",
    "test_interaction = test_interaction[test_interaction != 0]\n",
    "test_interaction.sort()\n",
    "test_interaction"
   ]
  },
  {
   "cell_type": "code",
   "execution_count": 6,
   "metadata": {},
   "outputs": [
    {
     "data": {
      "text/plain": [
       "11"
      ]
     },
     "execution_count": 6,
     "metadata": {},
     "output_type": "execute_result"
    }
   ],
   "source": [
    "len_test_interaction = len(test_interaction)\n",
    "len_test_interaction"
   ]
  },
  {
   "cell_type": "code",
   "execution_count": 7,
   "metadata": {},
   "outputs": [
    {
     "data": {
      "text/plain": [
       "149"
      ]
     },
     "execution_count": 7,
     "metadata": {},
     "output_type": "execute_result"
    }
   ],
   "source": [
    "prediction = pooling_model.predict(test_interaction)\n",
    "prediction[test_interaction] = -StaticVars.FLOAT_MAX\n",
    "rk_data = st.rankdata(-prediction, method='ordinal')\n",
    "index = np.where(rk_data == 1)\n",
    "index[0][0]"
   ]
  },
  {
   "cell_type": "markdown",
   "metadata": {},
   "source": [
    "## Random CF candidate selection"
   ]
  },
  {
   "cell_type": "code",
   "execution_count": 8,
   "metadata": {},
   "outputs": [],
   "source": [
    "import numpy as np\n",
    "\n",
    "def generate_random_sublists(original_list, sublists_info):\n",
    "    result_sublists = []\n",
    "    rng = np.random.default_rng(seed=2020)  # Seed for reproducibility\n",
    "\n",
    "    for length, count in sublists_info.items():\n",
    "        generated_sublists_for_length = set()\n",
    "\n",
    "        while len(generated_sublists_for_length) < count:\n",
    "            sublist = tuple(rng.choice(original_list, length, replace=False))\n",
    "            generated_sublists_for_length.add(sublist)\n",
    "\n",
    "        result_sublists.extend(np.array(list(sublist)) for sublist in generated_sublists_for_length)\n",
    "\n",
    "    return result_sublists\n"
   ]
  },
  {
   "cell_type": "code",
   "execution_count": 9,
   "metadata": {},
   "outputs": [],
   "source": [
    "sublists_info ={\n",
    "    5:5,\n",
    "    6:5,\n",
    "    7:5,\n",
    "    8:5,\n",
    "    9:5,\n",
    "    10:5\n",
    "}"
   ]
  },
  {
   "cell_type": "code",
   "execution_count": 10,
   "metadata": {},
   "outputs": [],
   "source": [
    "first_gen = generate_random_sublists(test_interaction, sublists_info)"
   ]
  },
  {
   "cell_type": "code",
   "execution_count": 11,
   "metadata": {},
   "outputs": [
    {
     "data": {
      "text/plain": [
       "[array([124, 125, 200, 191, 186], dtype=int32),\n",
       " array([125,  59, 114, 197, 190], dtype=int32),\n",
       " array([191,  59, 125, 190, 196], dtype=int32),\n",
       " array([196, 124, 190, 114, 197], dtype=int32),\n",
       " array([125, 186, 190,  59, 191], dtype=int32),\n",
       " array([197, 125, 186, 177, 196,  59], dtype=int32),\n",
       " array([ 59, 125, 191, 114, 200, 197], dtype=int32),\n",
       " array([191, 196, 200, 197, 177, 186], dtype=int32),\n",
       " array([190, 200,  59, 124, 177, 191], dtype=int32),\n",
       " array([ 59, 114, 190, 200, 197, 186], dtype=int32),\n",
       " array([177, 200, 124, 190, 114, 186, 191], dtype=int32),\n",
       " array([186, 197, 124, 125, 177, 196,  59], dtype=int32),\n",
       " array([114, 186, 200, 190, 196, 191, 125], dtype=int32),\n",
       " array([124, 190, 114, 177,  59, 197, 200], dtype=int32),\n",
       " array([197, 200, 191, 114, 190, 186, 124], dtype=int32),\n",
       " array([ 59, 190, 124, 197, 114, 200, 177, 186], dtype=int32),\n",
       " array([190, 114,  59, 125, 196, 197, 124, 200], dtype=int32),\n",
       " array([124, 114,  59, 190, 200, 125, 196, 191], dtype=int32),\n",
       " array([114, 124, 200, 191, 125, 186, 177,  59], dtype=int32),\n",
       " array([177, 197, 114, 124, 190,  59, 191, 200], dtype=int32),\n",
       " array([125, 114, 197, 196, 190, 124, 177, 186,  59], dtype=int32),\n",
       " array([124, 191, 177, 125, 114, 197, 186,  59, 200], dtype=int32),\n",
       " array([196, 190, 125,  59, 177, 200, 186, 191, 197], dtype=int32),\n",
       " array([190, 124, 200, 114, 197, 177, 186, 191, 196], dtype=int32),\n",
       " array([200, 197, 125, 124,  59, 186, 177, 114, 190], dtype=int32),\n",
       " array([186, 125, 191, 200, 190, 197, 177, 124, 114, 196], dtype=int32),\n",
       " array([197, 196,  59, 190, 186, 191, 114, 200, 125, 177], dtype=int32),\n",
       " array([196, 200, 186, 125, 124, 197, 191, 190, 114,  59], dtype=int32),\n",
       " array([196, 125, 197,  59, 186, 200, 124, 191, 190, 177], dtype=int32),\n",
       " array([191, 125, 177, 200, 196, 197,  59, 114, 186, 190], dtype=int32)]"
      ]
     },
     "execution_count": 11,
     "metadata": {},
     "output_type": "execute_result"
    }
   ],
   "source": [
    "first_gen"
   ]
  },
  {
   "cell_type": "markdown",
   "metadata": {},
   "source": [
    "## Crossover and Mutation"
   ]
  },
  {
   "cell_type": "code",
   "execution_count": 12,
   "metadata": {},
   "outputs": [],
   "source": [
    "import numpy as np\n",
    "\n",
    "def crossover(first_list, second_list, p_cross):\n",
    "    # Find the shorter length among the two lists\n",
    "    length_first = len(first_list)\n",
    "    length_second = len(second_list)\n",
    "    shorter_length = min(length_first, length_second)\n",
    "    \n",
    "    # Compute the number of crossover points\n",
    "    num_crossovers = int(shorter_length * p_cross)\n",
    "    \n",
    "    # Choose random indices for crossover within the range of shorter length\n",
    "    rng = np.random.default_rng(seed=2020)\n",
    "    crossover_indices_first = rng.choice(shorter_length, num_crossovers, replace=False)\n",
    "    crossover_indices_second = rng.choice(shorter_length, num_crossovers, replace=False)\n",
    "    \n",
    "    # Sort the crossover indices\n",
    "    crossover_indices_first.sort()\n",
    "    crossover_indices_second.sort()\n",
    "    \n",
    "    # Swap the elements at the crossover indices\n",
    "    for i in range(num_crossovers):\n",
    "        index_first = crossover_indices_first[i]\n",
    "        index_second = crossover_indices_second[i]\n",
    "        first_list[index_first], second_list[index_second] = second_list[index_second], first_list[index_first]\n",
    "    \n",
    "    return first_list, second_list\n",
    "\n",
    "def mutate_array(org_arr, arr_to_mutate, mutation_probability):\n",
    "    # Calculate the number of elements to mutate\n",
    "    num_mutations = int(mutation_probability * len(arr_to_mutate))\n",
    "    rng = np.random.default_rng(seed=2020)\n",
    "    # Select the indices to mutate\n",
    "    indices_to_mutate = rng.choice(range(len(arr_to_mutate)), size=num_mutations, replace=False)\n",
    "    \n",
    "    # Mutate the selected elements\n",
    "    for idx in indices_to_mutate:\n",
    "        arr_to_mutate[idx] = rng.choice(org_arr)\n",
    "\n",
    "    return arr_to_mutate\n",
    "\n",
    "\n",
    "def remove_duplicates(arr):\n",
    "    _, idx = np.unique(arr, return_index=True)\n",
    "    return arr[np.sort(idx)]"
   ]
  },
  {
   "cell_type": "code",
   "execution_count": 13,
   "metadata": {},
   "outputs": [
    {
     "data": {
      "text/plain": [
       "array([186, 125, 177, 200, 191, 197,  59, 190], dtype=int32)"
      ]
     },
     "execution_count": 13,
     "metadata": {},
     "output_type": "execute_result"
    }
   ],
   "source": [
    "first, second = crossover(first_gen[-1], first_gen[-2], 0.3)\n",
    "first = mutate_array(test_interaction, first, 0.2)\n",
    "first = remove_duplicates(first)\n",
    "second = remove_duplicates(second)\n",
    "first"
   ]
  },
  {
   "cell_type": "markdown",
   "metadata": {},
   "source": [
    "## Loss Functions"
   ]
  },
  {
   "cell_type": "code",
   "execution_count": 14,
   "metadata": {},
   "outputs": [],
   "source": [
    "from itertools import combinations, chain\n",
    "import numpy as np\n",
    "import scipy.stats as st\n",
    "\n",
    "class StaticVars:\n",
    "    FLOAT_MAX = float('inf')\n",
    "\n",
    "def supersets_of_new_subsets_of_old(new_cf, old_cf):\n",
    "    diff = np.setdiff1d(old_cf, new_cf)  # Elements that are in old_cf but not in new_cf\n",
    "    for r in range(1, len(diff) + 1):\n",
    "        for subset in combinations(diff, r):\n",
    "            yield np.union1d(new_cf, subset)\n",
    "\n",
    "def compute_yloss(target_score, kth_score):\n",
    "    yloss = max(0, target_score / kth_score - 1.0)\n",
    "    return yloss\n",
    "\n",
    "def compute_distance(x, y):\n",
    "    diff = np.setdiff1d(x, y)\n",
    "    return len(diff)\n",
    "\n",
    "def compute_loss(old_cf, new_cf, model, target_item, top_k, yloss_cache):\n",
    "    cache_key = frozenset(new_cf)\n",
    "    if cache_key in yloss_cache:\n",
    "        yloss = yloss_cache[cache_key]\n",
    "    else:\n",
    "        new_prediction = model.predict(new_cf)\n",
    "        new_prediction[new_cf] = -StaticVars.FLOAT_MAX\n",
    "        new_rk_data = st.rankdata(-new_prediction, method='ordinal')\n",
    "\n",
    "        top_k_index = np.where(new_rk_data == top_k)[0][0]\n",
    "        yloss = compute_yloss(new_prediction[target_item], new_prediction[top_k_index])\n",
    "        yloss_cache[cache_key] = yloss\n",
    "    dis = compute_distance(old_cf, new_cf)\n",
    "\n",
    "    subset_yloss = 0\n",
    "    for superset in supersets_of_new_subsets_of_old(new_cf, old_cf):\n",
    "        cache_key = frozenset(superset)\n",
    "        if cache_key in yloss_cache:\n",
    "            subset_yloss += yloss_cache[cache_key]\n",
    "        else:\n",
    "            subset_prediction = model.predict(superset)\n",
    "            subset_prediction[superset] = -StaticVars.FLOAT_MAX\n",
    "            sub_rk_data = st.rankdata(-subset_prediction, method='ordinal')\n",
    "            sub_top_k_index = np.where(sub_rk_data == top_k)[0][0]\n",
    "            subset_yloss += compute_yloss(subset_prediction[target_item], subset_prediction[sub_top_k_index])\n",
    "            yloss_cache[cache_key] = subset_yloss\n",
    "\n",
    "    return list([yloss, dis, subset_yloss])\n"
   ]
  },
  {
   "cell_type": "code",
   "execution_count": 15,
   "metadata": {},
   "outputs": [
    {
     "data": {
      "text/plain": [
       "[0, 3, 0.22337853908538818]"
      ]
     },
     "execution_count": 15,
     "metadata": {},
     "output_type": "execute_result"
    }
   ],
   "source": [
    "yloss_cache = {}\n",
    "compute_loss(test_interaction, first, lstm_model, 14, 10, yloss_cache)"
   ]
  },
  {
   "cell_type": "markdown",
   "metadata": {},
   "source": [
    "# NSGA-II\n",
    "Apply NSGA-II to the problem of finding the optimal candicates in multi-objective optimization problem.\n",
    "Based on:\n",
    "- Non-domination Rank\n",
    "- Crowding Distance"
   ]
  },
  {
   "cell_type": "code",
   "execution_count": 16,
   "metadata": {},
   "outputs": [
    {
     "name": "stdout",
     "output_type": "stream",
     "text": [
      "Ranks: [0, 0, 0, 1, 0, 1, 0, 0, 0, 0]\n",
      "Crowding Distances: [1.105972795596486, 0.7276053244416216, inf, inf, inf, inf, inf, 1.1189928019477082, 0.7458981687308142, inf]\n"
     ]
    }
   ],
   "source": [
    "def dominates(row, candidateRow):\n",
    "    \"\"\"Determine if one solution dominates another\"\"\"\n",
    "    return all(r <= cr for r, cr in zip(row, candidateRow)) and any(r < cr for r, cr in zip(row, candidateRow))\n",
    "\n",
    "def crowding_distance_assignment(front, values):\n",
    "    distances = [0] * len(values)  # Initialize the distance for every solution as 0\n",
    "    num_objs = len(values[0])\n",
    "    \n",
    "    for m in range(num_objs):\n",
    "        sorted_front = sorted(front, key=lambda x: values[x][m])\n",
    "\n",
    "        # Assign infinite distance at boundaries.\n",
    "        distances[sorted_front[0]] = distances[sorted_front[-1]] = float('inf')\n",
    "\n",
    "        # Normalize the objective values for distance computation.\n",
    "        obj_min = values[sorted_front[0]][m]\n",
    "        obj_max = values[sorted_front[-1]][m]\n",
    "        denom = obj_max - obj_min if obj_max != obj_min else 1\n",
    "\n",
    "        for i in range(1, len(sorted_front) - 1):\n",
    "            distances[sorted_front[i]] += (values[sorted_front[i + 1]][m] - values[sorted_front[i - 1]][m]) / denom\n",
    "\n",
    "    return distances\n",
    "\n",
    "\n",
    "\n",
    "def fast_nondominated_sort(values):\n",
    "    \"\"\"NSGA-II's fast non-dominated sort\"\"\"\n",
    "    S = [[] for _ in range(len(values))]\n",
    "    front = [[]]\n",
    "    n = [0 for _ in range(len(values))]\n",
    "    rank = [-1 for _ in range(len(values))]\n",
    "    \n",
    "    for p in range(len(values)):\n",
    "        S[p] = []\n",
    "        n[p] = 0\n",
    "        for q in range(len(values)):\n",
    "            if dominates(values[p], values[q]):\n",
    "                S[p].append(q)\n",
    "            elif dominates(values[q], values[p]):\n",
    "                n[p] += 1\n",
    "        if n[p] == 0:\n",
    "            rank[p] = 0\n",
    "            front[0].append(p)\n",
    "            \n",
    "    i = 0\n",
    "    while front[i]:\n",
    "        nextFront = []\n",
    "        for p in front[i]:\n",
    "            for q in S[p]:\n",
    "                n[q] = n[q] - 1\n",
    "                if n[q] == 0:\n",
    "                    rank[q] = i + 1\n",
    "                    nextFront.append(q)\n",
    "        i = i + 1\n",
    "        front.append(nextFront)\n",
    "\n",
    "    del front[len(front) - 1]\n",
    "    \n",
    "    # Initialize crowding distances as zeros\n",
    "    crowding_distances = [0] * len(values)\n",
    "    \n",
    "    for front_solutions in front:\n",
    "        current_front_distances = crowding_distance_assignment(front_solutions, values)\n",
    "        for j, solution in enumerate(front_solutions):\n",
    "            crowding_distances[solution] = current_front_distances[solution]\n",
    "    \n",
    "    return rank, crowding_distances\n",
    "\n",
    "\n",
    "values = [\n",
    "    [3.5, 2.1, 3.7],\n",
    "    [1.2, 5.4, 6.3],\n",
    "    [7.2, 0.8, 2.9],\n",
    "    [3.9, 3.2, 5.5],\n",
    "    [5.6, 4.3, 1.8],\n",
    "    [6.7, 7.2, 4.4],\n",
    "    [0.5, 3.7, 6.6],\n",
    "    [3.4, 4.8, 5.9],\n",
    "    [6.2, 2.4, 3.3],\n",
    "    [4.9, 5.5, 2.2]\n",
    "]\n",
    "\n",
    "\n",
    "ranks, crowding_distances = fast_nondominated_sort(values)\n",
    "print(\"Ranks:\", ranks)\n",
    "print(\"Crowding Distances:\", crowding_distances)\n"
   ]
  },
  {
   "cell_type": "markdown",
   "metadata": {},
   "source": [
    "# Pipeline"
   ]
  },
  {
   "cell_type": "code",
   "execution_count": 17,
   "metadata": {},
   "outputs": [],
   "source": [
    "def generate_random_pairs(list_of_arrays, n):\n",
    "    # Generate all possible pairs\n",
    "    all_pairs = list(itertools.combinations(list_of_arrays, 2))\n",
    "\n",
    "    # Randomly select n pairs\n",
    "    random_pairs = random.sample(all_pairs, n)\n",
    "\n",
    "    return random_pairs"
   ]
  },
  {
   "cell_type": "code",
   "execution_count": 18,
   "metadata": {},
   "outputs": [],
   "source": [
    "def generation(interaction, candidates, model, target, k, yloss_cache):\n",
    "    print(len(candidates))\n",
    "    pairs = generate_random_pairs(candidates, len(candidates)//2)\n",
    "    for first, second in pairs:\n",
    "        first, second = crossover(first, second, 0.3)\n",
    "        first = mutate_array(interaction, first, 0.2)\n",
    "        second = mutate_array(interaction, second, 0.2)\n",
    "        first = remove_duplicates(first)\n",
    "        second = remove_duplicates(second)\n",
    "        candidates.append(first)\n",
    "        candidates.append(second)\n",
    "    print(len(candidates))\n",
    "    losses = [compute_loss(interaction, arr, model, target, k, yloss_cache) for arr in candidates]\n",
    "    print(losses)\n",
    "    ranks, crowding_distances = fast_nondominated_sort(losses)\n",
    "    print(ranks)\n",
    "    candidates_with_metrics = list(zip(candidates, ranks, crowding_distances))\n",
    "\n",
    "    # Sort based on ranks (ascending) and then crowding distances (descending)\n",
    "    candidates_with_metrics.sort(key=lambda x: (x[1], -x[2]))\n",
    "\n",
    "    # Extract candidates after sorting\n",
    "    sorted_candidates = [pair[0] for pair in candidates_with_metrics]\n",
    "\n",
    "    # Extract the top third of candidates\n",
    "    least_loss_arrays = sorted_candidates[:len(sorted_candidates)//3]\n",
    "\n",
    "    return least_loss_arrays"
   ]
  },
  {
   "cell_type": "code",
   "execution_count": 19,
   "metadata": {},
   "outputs": [
    {
     "name": "stdout",
     "output_type": "stream",
     "text": [
      "30\n",
      "60\n",
      "[[0, 6, 0], [0.028322339057922363, 6, 2.688710331916809], [0.11467695236206055, 6, 36.18478810787201], [0.03349137306213379, 6, 28.183237671852112], [0, 8, 347.1541883945465], [0.02580404281616211, 5, 850.2320351600647], [0, 5, 414.09026491642], [0.021218538284301758, 7, 3749.5485756397247], [0, 6, 4038.671367406845], [0, 7, 9248.966601133347], [37.54164505004883, 4, 855.0394347906113], [0.1858065128326416, 4, 1024.2560124397278], [0, 6, 5069.242189288139], [0, 4, 98.5583370923996], [2.230101227760315, 4, 127.40229368209839], [0, 5, 1258.3295882940292], [2.0256733894348145, 3, 12.929736852645874], [0, 3, 5.21489942073822], [0, 4, 1243.7938336133957], [7.775419354438782, 4, 507.6341391801834], [4.1848520040512085, 4, 1165.6634389162064], [0, 2, 0], [0, 5, 2476.0187801122665], [0, 5, 3880.2885086536407], [2.45876944065094, 2, 2.688710331916809], [151.42970979213715, 3, 668.8308517932892], [7.797499299049377, 4, 168.9070155620575], [2.2909514904022217, 3, 7.919968247413635], [10.372677564620972, 3, 99.24150657653809], [0.04146003723144531, 5, 6507.332445979118], [0.1384803056716919, 7, 2676.212524294853], [2.2909514904022217, 3, 7.919968247413635], [4.1848520040512085, 4, 1165.6634389162064], [20.093666195869446, 4, 179.14770114421844], [0, 5, 1086.0130591392517], [0, 4, 1770.3911703824997], [0.03349137306213379, 6, 397.6108503341675], [0.021218538284301758, 7, 20872.013826966286], [1.8411388397216797, 5, 1173.4810508489609], [0, 6, 6089.722278594971], [0.11467695236206055, 6, 353.4005118608475], [0, 6, 7079.43758559227], [0, 5, 1302.3626232147217], [0, 5, 1360.661208152771], [0, 5, 1360.661208152771], [0, 5, 4195.053591489792], [7.775419354438782, 4, 507.6341391801834], [10.372677564620972, 3, 99.24150657653809], [0.03349137306213379, 6, 397.6108503341675], [0, 7, 12168.15902376175], [151.42970979213715, 3, 668.8308517932892], [7.797499299049377, 4, 168.9070155620575], [151.42970979213715, 3, 668.8308517932892], [0.04146003723144531, 5, 6507.332445979118], [0.11467695236206055, 6, 353.4005118608475], [0, 8, 4518.553159713745], [0, 5, 1302.3626232147217], [0, 6, 4787.893993377686], [7.775419354438782, 4, 507.6341391801834], [0, 5, 2503.639671087265]]\n",
      "[1, 2, 4, 3, 3, 4, 3, 10, 11, 16, 6, 3, 13, 2, 3, 5, 2, 1, 3, 4, 4, 0, 8, 10, 1, 4, 4, 2, 3, 12, 10, 2, 4, 5, 4, 4, 4, 18, 5, 14, 5, 15, 6, 7, 7, 11, 4, 3, 4, 17, 4, 4, 4, 12, 5, 12, 6, 12, 4, 9]\n"
     ]
    },
    {
     "data": {
      "text/plain": [
       "[array([124, 191, 177, 125, 114, 197, 186,  59, 200], dtype=int32),\n",
       " array([124, 125, 200, 191, 186], dtype=int32),\n",
       " array([124, 114,  59, 190, 200, 125, 196, 191], dtype=int32),\n",
       " array([200, 197, 125, 124,  59, 186, 177, 114, 190], dtype=int32),\n",
       " array([125,  59, 114, 197, 190], dtype=int32),\n",
       " array([124, 190, 114, 177,  59, 197, 200], dtype=int32),\n",
       " array([190, 114,  59, 125, 196, 197, 124, 200], dtype=int32),\n",
       " array([186, 200, 125, 191, 197, 190, 114,  59], dtype=int32),\n",
       " array([186, 200, 125, 125, 191, 197, 191, 190, 114,  59], dtype=int32),\n",
       " array([186, 124, 190, 114, 197], dtype=int32),\n",
       " array([186, 186, 186,  59, 191], dtype=int32),\n",
       " array([186, 124, 200,  59, 125, 197, 177,  59], dtype=int32),\n",
       " array([186, 191, 197, 177, 191, 124, 196, 114, 190, 177], dtype=int32),\n",
       " array([186, 191, 197, 177, 124, 196, 114, 190], dtype=int32),\n",
       " array([197, 200, 191, 114, 190, 186, 124], dtype=int32),\n",
       " array([186, 197, 124, 125, 177, 196,  59], dtype=int32),\n",
       " array([186, 125, 191, 114, 200, 197], dtype=int32),\n",
       " array([186,  59, 125, 190, 196], dtype=int32),\n",
       " array([186, 125, 191, 200, 191, 197, 177, 191, 114, 196], dtype=int32),\n",
       " array([186, 190, 124, 114, 200, 177], dtype=int32)]"
      ]
     },
     "execution_count": 19,
     "metadata": {},
     "output_type": "execute_result"
    }
   ],
   "source": [
    "yloss_cache = {}\n",
    "generation(test_interaction, first_gen, lstm_model, 149, 10, yloss_cache)"
   ]
  }
 ],
 "metadata": {
  "kernelspec": {
   "display_name": "base",
   "language": "python",
   "name": "python3"
  },
  "language_info": {
   "codemirror_mode": {
    "name": "ipython",
    "version": 3
   },
   "file_extension": ".py",
   "mimetype": "text/x-python",
   "name": "python",
   "nbconvert_exporter": "python",
   "pygments_lexer": "ipython3",
   "version": "3.9.16"
  },
  "orig_nbformat": 4
 },
 "nbformat": 4,
 "nbformat_minor": 2
}
